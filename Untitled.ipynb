{
 "cells": [
  {
   "cell_type": "code",
   "execution_count": 3,
   "id": "5bab3f11-f484-4a0b-a68c-c380e69103bf",
   "metadata": {},
   "outputs": [
    {
     "data": {
      "text/plain": [
       "[1, 2, 3, 4]"
      ]
     },
     "execution_count": 3,
     "metadata": {},
     "output_type": "execute_result"
    }
   ],
   "source": [
    "x = [1,2,3,4]\n",
    "x"
   ]
  },
  {
   "cell_type": "code",
   "execution_count": 3,
   "id": "6af56f6e-f8ab-49ca-ac65-15e7ab99215b",
   "metadata": {},
   "outputs": [
    {
     "name": "stdout",
     "output_type": "stream",
     "text": [
      "x is equal\n"
     ]
    }
   ],
   "source": [
    "x= 100\n",
    "if x < 100:\n",
    "    print(\"x is less\")\n",
    "elif x is 100:\n",
    "    print(\"x is equal\")"
   ]
  },
  {
   "cell_type": "code",
   "execution_count": 5,
   "id": "e5ff6eb9-741d-435d-af47-29cb7022e512",
   "metadata": {},
   "outputs": [
    {
     "name": "stdout",
     "output_type": "stream",
     "text": [
      "x is less\n",
      "x is equal\n"
     ]
    }
   ],
   "source": [
    "x = 100\n",
    "x < 100 if print(\"x is less\") else print(\"x is equal\")"
   ]
  },
  {
   "cell_type": "code",
   "execution_count": null,
   "id": "e7309937-b938-4208-8454-10dd568c7951",
   "metadata": {},
   "outputs": [],
   "source": []
  }
 ],
 "metadata": {
  "kernelspec": {
   "display_name": "Python 3 (ipykernel)",
   "language": "python",
   "name": "python3"
  },
  "language_info": {
   "codemirror_mode": {
    "name": "ipython",
    "version": 3
   },
   "file_extension": ".py",
   "mimetype": "text/x-python",
   "name": "python",
   "nbconvert_exporter": "python",
   "pygments_lexer": "ipython3",
   "version": "3.13.5"
  }
 },
 "nbformat": 4,
 "nbformat_minor": 5
}
